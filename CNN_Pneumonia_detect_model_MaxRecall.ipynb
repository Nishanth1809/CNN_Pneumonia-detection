{
 "cells": [
  {
   "cell_type": "code",
   "execution_count": 1,
   "metadata": {},
   "outputs": [],
   "source": [
    "import numpy as np\n",
    "import pandas as pd\n",
    "import cv2\n",
    "import os\n",
    "import tensorflow \n",
    "import matplotlib.pyplot as plt\n",
    "from PIL import Image\n",
    "\n",
    "from tensorflow.keras.models import Sequential\n",
    "from tensorflow.keras.layers import Conv2D , MaxPooling2D, Flatten, Dense\n",
    "from tensorflow.keras.preprocessing.image import ImageDataGenerator, load_img\n"
   ]
  },
  {
   "cell_type": "code",
   "execution_count": 22,
   "metadata": {},
   "outputs": [],
   "source": [
    "from tensorflow.keras.layers import Dropout\n",
    "from tensorflow.keras.optimizers import SGD , RMSprop\n",
    "from tensorflow.keras.optimizers import SGD , RMSprop\n",
    "from tensorflow.keras.layers import Conv2D , BatchNormalization\n",
    "from tensorflow.keras.callbacks import ReduceLROnPlateau , ModelCheckpoint\n",
    "\n",
    "from sklearn.metrics import roc_auc_score,roc_curve,accuracy_score,recall_score\n",
    "from tensorflow.keras.metrics import categorical_accuracy"
   ]
  },
  {
   "cell_type": "code",
   "execution_count": 7,
   "metadata": {},
   "outputs": [],
   "source": [
    "input_path = r'C:/Users/Nishanth/Desktop/Python_Learning/CXR_Pneumonia detection/chest_xray/'\n",
    "\n",
    "train_path = input_path+'train/'\n",
    "val_path = input_path+'val/'\n",
    "test_path = input_path+'test/'"
   ]
  },
  {
   "cell_type": "code",
   "execution_count": 13,
   "metadata": {},
   "outputs": [
    {
     "name": "stdout",
     "output_type": "stream",
     "text": [
      "Found 5216 images belonging to 2 classes.\n",
      "Found 16 images belonging to 2 classes.\n",
      "Found 624 images belonging to 2 classes.\n"
     ]
    }
   ],
   "source": [
    "gen = ImageDataGenerator()\n",
    "train_batches = gen.flow_from_directory(train_path,model0.input_shape[1:3],color_mode=\"grayscale\",shuffle=True,seed=1,\n",
    "                                        batch_size=16)\n",
    "valid_batches = gen.flow_from_directory(val_path, model0.input_shape[1:3],color_mode=\"grayscale\", shuffle=True,seed=1,\n",
    "                                        batch_size=16)\n",
    "test_batches = gen.flow_from_directory(test_path, model0.input_shape[1:3], shuffle=False,\n",
    "                                       color_mode=\"grayscale\", batch_size=8)"
   ]
  },
  {
   "cell_type": "code",
   "execution_count": 11,
   "metadata": {},
   "outputs": [],
   "source": [
    "model0 = Sequential()\n",
    "model0.add(Conv2D(filters=32, kernel_size=(3,3), activation=\"relu\", padding=\"same\",\n",
    "                 input_shape=(64,64,1)))\n",
    "model0.add(Conv2D(filters=32, kernel_size=(3,3), activation=\"relu\", padding=\"same\"))\n",
    "model0.add(BatchNormalization())\n",
    "model0.add(MaxPooling2D(pool_size=(2,2)))\n",
    "model0.add(Dropout(rate=0.25))\n",
    "\n",
    "model0.add(Conv2D(filters=64, kernel_size=(3,3), activation=\"relu\", padding=\"same\"))\n",
    "model0.add(Conv2D(filters=64, kernel_size=(3,3), activation=\"relu\", padding=\"same\"))\n",
    "model0.add(BatchNormalization())\n",
    "model0.add(MaxPooling2D(pool_size=(2,2)))\n",
    "model0.add(Dropout(rate=0.25))\n",
    "\n",
    "model0.add(Flatten())\n",
    "model0.add(Dense(1024,activation=\"relu\"))\n",
    "model0.add(BatchNormalization())\n",
    "model0.add(Dropout(rate=0.4))\n",
    "model0.add(Dense(2, activation=\"softmax\"))"
   ]
  },
  {
   "cell_type": "code",
   "execution_count": 39,
   "metadata": {},
   "outputs": [
    {
     "name": "stdout",
     "output_type": "stream",
     "text": [
      "Epoch 1/3\n",
      "326/326 [==============================] - 499s 2s/step - loss: 0.1578 - accuracy: 0.9450 - val_loss: 1.8950 - val_accuracy: 0.5625\n",
      "Epoch 2/3\n",
      "326/326 [==============================] - 311s 955ms/step - loss: 0.1346 - accuracy: 0.9572 - val_loss: 8.0590 - val_accuracy: 0.5000\n",
      "Epoch 3/3\n",
      "326/326 [==============================] - 334s 1s/step - loss: 0.1112 - accuracy: 0.9624 - val_loss: 3.0184 - val_accuracy: 0.5000\n"
     ]
    },
    {
     "data": {
      "text/plain": [
       "<tensorflow.python.keras.callbacks.History at 0x6881472438>"
      ]
     },
     "execution_count": 39,
     "metadata": {},
     "output_type": "execute_result"
    }
   ],
   "source": [
    "model0.compile(optimizer = 'adam',loss=\"categorical_crossentropy\", metrics=[\"accuracy\"])\n",
    "model0.fit_generator(train_batches,validation_data=valid_batches,epochs=3)"
   ]
  },
  {
   "cell_type": "code",
   "execution_count": 40,
   "metadata": {},
   "outputs": [
    {
     "name": "stdout",
     "output_type": "stream",
     "text": [
      "78/78 [==============================] - 25s 321ms/step\n"
     ]
    }
   ],
   "source": [
    "p = model0.predict_generator(test_batches, verbose=True)\n",
    "pre = pd.DataFrame(p)\n",
    "pre[\"filename\"] = test_batches.filenames\n",
    "pre[\"label\"] = (pre[\"filename\"].str.contains(\"PNEUMONIA\")).apply(int)\n",
    "pre['pre'] = (pre[1]>0.5).apply(int)"
   ]
  },
  {
   "cell_type": "code",
   "execution_count": 41,
   "metadata": {},
   "outputs": [
    {
     "data": {
      "text/plain": [
       "1.0"
      ]
     },
     "execution_count": 41,
     "metadata": {},
     "output_type": "execute_result"
    }
   ],
   "source": [
    "recall_score(pre[\"label\"],pre[\"pre\"])"
   ]
  },
  {
   "cell_type": "code",
   "execution_count": 42,
   "metadata": {},
   "outputs": [
    {
     "data": {
      "text/plain": [
       "0.8991726934034626"
      ]
     },
     "execution_count": 42,
     "metadata": {},
     "output_type": "execute_result"
    }
   ],
   "source": [
    "roc_auc_score(pre[\"label\"],pre[1])"
   ]
  },
  {
   "cell_type": "code",
   "execution_count": 44,
   "metadata": {},
   "outputs": [
    {
     "data": {
      "text/plain": [
       "<matplotlib.axes._subplots.AxesSubplot at 0x6881c82ef0>"
      ]
     },
     "execution_count": 44,
     "metadata": {},
     "output_type": "execute_result"
    },
    {
     "data": {
      "image/png": "[encoded data removed]",
      "text/plain": [
       "<Figure size 432x288 with 1 Axes>"
      ]
     },
     "metadata": {
      "needs_background": "light"
     },
     "output_type": "display_data"
    }
   ],
   "source": [
    "tpr,fpr,thres = roc_curve(pre[\"label\"],pre[1])\n",
    "roc = pd.DataFrame([tpr,fpr]).T\n",
    "roc.plot(x=0,y=1)"
   ]
  },
  {
   "cell_type": "code",
   "execution_count": 47,
   "metadata": {},
   "outputs": [
    {
     "name": "stdout",
     "output_type": "stream",
     "text": [
      "Saved model to disk\n"
     ]
    }
   ],
   "source": [
    "##Saving the model \n",
    "model0.save(\"cnn_model_MaxRecall.h5\")\n",
    "print(\"Saved model to disk\")"
   ]
  },
  {
   "cell_type": "code",
   "execution_count": null,
   "metadata": {},
   "outputs": [],
   "source": []
  }
 ],
 "metadata": {
  "kernelspec": {
   "display_name": "Python 3",
   "language": "python",
   "name": "python3"
  },
  "language_info": {
   "codemirror_mode": {
    "name": "ipython",
    "version": 3
   },
   "file_extension": ".py",
   "mimetype": "text/x-python",
   "name": "python",
   "nbconvert_exporter": "python",
   "pygments_lexer": "ipython3",
   "version": "3.7.3"
  }
 },
 "nbformat": 4,
 "nbformat_minor": 2
}
